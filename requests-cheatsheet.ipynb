{
 "cells": [
  {
   "cell_type": "markdown",
   "metadata": {},
   "source": [
    "**Requests** - это удобная библиотека для python, которая позволяет позволяет посылать произвольные запросы к веб-сервисам и получать ответы - html страницы или бинарные файлы так, как это обычно делает браузер. \n",
    "\n",
    "В **requests** можно отправлять запросы произвольных типов, указывать заголовки, cookies, post параметры разных видов (обычные, json, бинарные данные) и даже автоматически сохранять данные сессии.\n",
    "\n",
    "Ниже - основные примеры использования.\n"
   ]
  },
  {
   "cell_type": "code",
   "execution_count": null,
   "metadata": {},
   "outputs": [],
   "source": [
    "import requests\n",
    "\n",
    "# как отправить обычный GET запрос и увидеть ответ?\n",
    "response = requests.get(\"https://httpbin.org/get\")\n",
    "print(response.text)\n",
    "\n",
    "# как отправить обычный GET с параметрами?\n",
    "response = requests.get(\"https://httpbin.org/get?arg1=value1&arg2=value2\")\n",
    "print(response.text)\n",
    "\n",
    "# как отправить обычный POST запрос?\n",
    "response = requests.post(\"https://httpbin.org/post\")\n",
    "print(response.text)\n",
    "\n",
    "# как отправить обычный POST запрос с POST параметрами?\n",
    "data = {\n",
    "    \"arg1\": \"value1\",\n",
    "    \"arg2\": \"value2\"\n",
    "}\n",
    "\n",
    "response = requests.post(\"https://httpbin.org/post\", data=data)\n",
    "print(response.text)\n",
    "\n",
    "# как отправить запрос произвольного типа?\n",
    "response = requests.request(\"GET\", \"https://httpbin.org/get?arg1=value1&arg2=value2\")\n",
    "print(response.text)\n",
    "\n",
    "response = requests.request(\"ANY_CUSTOM_METHOD\", \"https://httpbin.org/get?arg1=value1&arg2=value2\")\n",
    "print(response.text)\n"
   ]
  },
  {
   "cell_type": "markdown",
   "metadata": {},
   "source": [
    "К запросу можно добавлять произвольные заголовки, и, в частности, любые cookie."
   ]
  },
  {
   "cell_type": "code",
   "execution_count": null,
   "metadata": {},
   "outputs": [],
   "source": [
    "headers = {\n",
    "    \"header1\": \"value1\",\n",
    "    \"header2\": \"value2\",\n",
    "}\n",
    "\n",
    "cookies = {\n",
    "    \"cookie1\": \"value1\",\n",
    "    \"coolie2\": \"value2\",\n",
    "}\n",
    "\n",
    "response = requests.get(\"https://httpbin.org/get\", cookies=cookies, headers=headers)\n",
    "print(response.text)"
   ]
  },
  {
   "cell_type": "markdown",
   "metadata": {},
   "source": [
    "Например, можно притвориться браузером Chrome..."
   ]
  },
  {
   "cell_type": "code",
   "execution_count": null,
   "metadata": {},
   "outputs": [],
   "source": [
    "headers = {\n",
    "    \"User-Agent\": \"Mozilla/5.0 (Macintosh; Intel Mac OS X 10_14_5) AppleWebKit/537.36 (KHTML, like Gecko) Chrome/79.0.3945.130 Safari/537.36\",\n",
    "}\n",
    "\n",
    "response = requests.get(\"https://httpbin.org/get\", headers=headers)\n",
    "print(response.text)"
   ]
  },
  {
   "cell_type": "markdown",
   "metadata": {},
   "source": [
    "Если надо сохранять сессию (автоматически добавлять cookies, которые присылает сервер)..."
   ]
  },
  {
   "cell_type": "code",
   "execution_count": null,
   "metadata": {},
   "outputs": [],
   "source": [
    "session = requests.Session()\n",
    "\n",
    "data = {\n",
    "    \"login\": \"login\",\n",
    "    \"password\": \"qwerty\"\n",
    "}\n",
    "\n",
    "# авторизация\n",
    "response = session.post(\"https://example.com/login\", data=data)\n",
    "\n",
    "# работаем дальше уже авторизованными\n",
    "response = session.get(\"https://example.com/\")\n"
   ]
  },
  {
   "cell_type": "markdown",
   "metadata": {},
   "source": [
    "И последнее - можно легко скачать файл..."
   ]
  },
  {
   "cell_type": "code",
   "execution_count": null,
   "metadata": {},
   "outputs": [],
   "source": [
    "response = requests.get(\"https://example.com/file.jpg\")\n",
    "\n",
    "file = open('file.jpg', 'rb')\n",
    "file.write(response.content)\n",
    "file.close()"
   ]
  }
 ],
 "metadata": {
  "kernelspec": {
   "display_name": "Python 3",
   "language": "python",
   "name": "python3"
  },
  "language_info": {
   "codemirror_mode": {
    "name": "ipython",
    "version": 3
   },
   "file_extension": ".py",
   "mimetype": "text/x-python",
   "name": "python",
   "nbconvert_exporter": "python",
   "pygments_lexer": "ipython3",
   "version": "3.7.1"
  }
 },
 "nbformat": 4,
 "nbformat_minor": 2
}
